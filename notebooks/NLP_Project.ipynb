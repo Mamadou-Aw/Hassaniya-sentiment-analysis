{
  "nbformat": 4,
  "nbformat_minor": 0,
  "metadata": {
    "colab": {
      "provenance": []
    },
    "kernelspec": {
      "name": "python3",
      "display_name": "Python 3"
    },
    "language_info": {
      "name": "python"
    }
  },
  "cells": [
    {
      "cell_type": "code",
      "execution_count": 4,
      "metadata": {
        "id": "XR6e9K4reVP7"
      },
      "outputs": [],
      "source": [
        "import pandas as pd\n",
        "from sklearn.feature_extraction.text import TfidfVectorizer\n",
        "from sklearn.model_selection import train_test_split\n",
        "def preprocessing(url) :\n",
        "    data = pd.read_json(url)\n",
        "    df = pd.DataFrame(data)\n",
        "    df = df.dropna(subset=['text', 'label'])\n",
        "    df['label'] = df['label'].str.strip().str.lower()\n",
        "\n",
        "    df['label'] = df['label'].replace({\n",
        "      'neutrql': 'neutral',\n",
        "      'positive ': 'positive',\n",
        "      ' negative': 'negative'\n",
        "})\n",
        "\n",
        "    vectorizer = TfidfVectorizer()\n",
        "    X = vectorizer.fit_transform(df['text'])\n",
        "    y = df['label']\n",
        "    X_train, X_test, y_train, y_test = train_test_split(X, y, test_size=0.2, random_state=42)\n",
        "    return X_train, X_test, y_train, y_test, vectorizer"
      ]
    },
    {
      "cell_type": "code",
      "source": [
        "from google.colab import files\n",
        "file = files.upload()\n",
        "file_name =list(file.keys())[0]\n",
        "#print(file_name)"
      ],
      "metadata": {
        "colab": {
          "base_uri": "https://localhost:8080/",
          "height": 71
        },
        "id": "DHyPj6voi0_K",
        "outputId": "02afe48a-8b75-4969-b2c4-b397bb14f423"
      },
      "execution_count": 1,
      "outputs": [
        {
          "output_type": "display_data",
          "data": {
            "text/plain": [
              "<IPython.core.display.HTML object>"
            ],
            "text/html": [
              "\n",
              "     <input type=\"file\" id=\"files-6614d9e0-aa5a-49c9-a68d-a4b5a6b796d5\" name=\"files[]\" multiple disabled\n",
              "        style=\"border:none\" />\n",
              "     <output id=\"result-6614d9e0-aa5a-49c9-a68d-a4b5a6b796d5\">\n",
              "      Upload widget is only available when the cell has been executed in the\n",
              "      current browser session. Please rerun this cell to enable.\n",
              "      </output>\n",
              "      <script>// Copyright 2017 Google LLC\n",
              "//\n",
              "// Licensed under the Apache License, Version 2.0 (the \"License\");\n",
              "// you may not use this file except in compliance with the License.\n",
              "// You may obtain a copy of the License at\n",
              "//\n",
              "//      http://www.apache.org/licenses/LICENSE-2.0\n",
              "//\n",
              "// Unless required by applicable law or agreed to in writing, software\n",
              "// distributed under the License is distributed on an \"AS IS\" BASIS,\n",
              "// WITHOUT WARRANTIES OR CONDITIONS OF ANY KIND, either express or implied.\n",
              "// See the License for the specific language governing permissions and\n",
              "// limitations under the License.\n",
              "\n",
              "/**\n",
              " * @fileoverview Helpers for google.colab Python module.\n",
              " */\n",
              "(function(scope) {\n",
              "function span(text, styleAttributes = {}) {\n",
              "  const element = document.createElement('span');\n",
              "  element.textContent = text;\n",
              "  for (const key of Object.keys(styleAttributes)) {\n",
              "    element.style[key] = styleAttributes[key];\n",
              "  }\n",
              "  return element;\n",
              "}\n",
              "\n",
              "// Max number of bytes which will be uploaded at a time.\n",
              "const MAX_PAYLOAD_SIZE = 100 * 1024;\n",
              "\n",
              "function _uploadFiles(inputId, outputId) {\n",
              "  const steps = uploadFilesStep(inputId, outputId);\n",
              "  const outputElement = document.getElementById(outputId);\n",
              "  // Cache steps on the outputElement to make it available for the next call\n",
              "  // to uploadFilesContinue from Python.\n",
              "  outputElement.steps = steps;\n",
              "\n",
              "  return _uploadFilesContinue(outputId);\n",
              "}\n",
              "\n",
              "// This is roughly an async generator (not supported in the browser yet),\n",
              "// where there are multiple asynchronous steps and the Python side is going\n",
              "// to poll for completion of each step.\n",
              "// This uses a Promise to block the python side on completion of each step,\n",
              "// then passes the result of the previous step as the input to the next step.\n",
              "function _uploadFilesContinue(outputId) {\n",
              "  const outputElement = document.getElementById(outputId);\n",
              "  const steps = outputElement.steps;\n",
              "\n",
              "  const next = steps.next(outputElement.lastPromiseValue);\n",
              "  return Promise.resolve(next.value.promise).then((value) => {\n",
              "    // Cache the last promise value to make it available to the next\n",
              "    // step of the generator.\n",
              "    outputElement.lastPromiseValue = value;\n",
              "    return next.value.response;\n",
              "  });\n",
              "}\n",
              "\n",
              "/**\n",
              " * Generator function which is called between each async step of the upload\n",
              " * process.\n",
              " * @param {string} inputId Element ID of the input file picker element.\n",
              " * @param {string} outputId Element ID of the output display.\n",
              " * @return {!Iterable<!Object>} Iterable of next steps.\n",
              " */\n",
              "function* uploadFilesStep(inputId, outputId) {\n",
              "  const inputElement = document.getElementById(inputId);\n",
              "  inputElement.disabled = false;\n",
              "\n",
              "  const outputElement = document.getElementById(outputId);\n",
              "  outputElement.innerHTML = '';\n",
              "\n",
              "  const pickedPromise = new Promise((resolve) => {\n",
              "    inputElement.addEventListener('change', (e) => {\n",
              "      resolve(e.target.files);\n",
              "    });\n",
              "  });\n",
              "\n",
              "  const cancel = document.createElement('button');\n",
              "  inputElement.parentElement.appendChild(cancel);\n",
              "  cancel.textContent = 'Cancel upload';\n",
              "  const cancelPromise = new Promise((resolve) => {\n",
              "    cancel.onclick = () => {\n",
              "      resolve(null);\n",
              "    };\n",
              "  });\n",
              "\n",
              "  // Wait for the user to pick the files.\n",
              "  const files = yield {\n",
              "    promise: Promise.race([pickedPromise, cancelPromise]),\n",
              "    response: {\n",
              "      action: 'starting',\n",
              "    }\n",
              "  };\n",
              "\n",
              "  cancel.remove();\n",
              "\n",
              "  // Disable the input element since further picks are not allowed.\n",
              "  inputElement.disabled = true;\n",
              "\n",
              "  if (!files) {\n",
              "    return {\n",
              "      response: {\n",
              "        action: 'complete',\n",
              "      }\n",
              "    };\n",
              "  }\n",
              "\n",
              "  for (const file of files) {\n",
              "    const li = document.createElement('li');\n",
              "    li.append(span(file.name, {fontWeight: 'bold'}));\n",
              "    li.append(span(\n",
              "        `(${file.type || 'n/a'}) - ${file.size} bytes, ` +\n",
              "        `last modified: ${\n",
              "            file.lastModifiedDate ? file.lastModifiedDate.toLocaleDateString() :\n",
              "                                    'n/a'} - `));\n",
              "    const percent = span('0% done');\n",
              "    li.appendChild(percent);\n",
              "\n",
              "    outputElement.appendChild(li);\n",
              "\n",
              "    const fileDataPromise = new Promise((resolve) => {\n",
              "      const reader = new FileReader();\n",
              "      reader.onload = (e) => {\n",
              "        resolve(e.target.result);\n",
              "      };\n",
              "      reader.readAsArrayBuffer(file);\n",
              "    });\n",
              "    // Wait for the data to be ready.\n",
              "    let fileData = yield {\n",
              "      promise: fileDataPromise,\n",
              "      response: {\n",
              "        action: 'continue',\n",
              "      }\n",
              "    };\n",
              "\n",
              "    // Use a chunked sending to avoid message size limits. See b/62115660.\n",
              "    let position = 0;\n",
              "    do {\n",
              "      const length = Math.min(fileData.byteLength - position, MAX_PAYLOAD_SIZE);\n",
              "      const chunk = new Uint8Array(fileData, position, length);\n",
              "      position += length;\n",
              "\n",
              "      const base64 = btoa(String.fromCharCode.apply(null, chunk));\n",
              "      yield {\n",
              "        response: {\n",
              "          action: 'append',\n",
              "          file: file.name,\n",
              "          data: base64,\n",
              "        },\n",
              "      };\n",
              "\n",
              "      let percentDone = fileData.byteLength === 0 ?\n",
              "          100 :\n",
              "          Math.round((position / fileData.byteLength) * 100);\n",
              "      percent.textContent = `${percentDone}% done`;\n",
              "\n",
              "    } while (position < fileData.byteLength);\n",
              "  }\n",
              "\n",
              "  // All done.\n",
              "  yield {\n",
              "    response: {\n",
              "      action: 'complete',\n",
              "    }\n",
              "  };\n",
              "}\n",
              "\n",
              "scope.google = scope.google || {};\n",
              "scope.google.colab = scope.google.colab || {};\n",
              "scope.google.colab._files = {\n",
              "  _uploadFiles,\n",
              "  _uploadFilesContinue,\n",
              "};\n",
              "})(self);\n",
              "</script> "
            ]
          },
          "metadata": {}
        },
        {
          "output_type": "stream",
          "name": "stdout",
          "text": [
            "Saving hassaniya_data.json to hassaniya_data.json\n"
          ]
        }
      ]
    },
    {
      "cell_type": "code",
      "source": [
        "X_train, X_test, y_train, y_test, vectorizer = preprocessing(file_name)\n",
        "print(X_train[:10])"
      ],
      "metadata": {
        "colab": {
          "base_uri": "https://localhost:8080/"
        },
        "id": "UNBreH0pji9i",
        "outputId": "b6d7027c-79c6-4655-a7ef-92f98d1abb85"
      },
      "execution_count": 5,
      "outputs": [
        {
          "output_type": "stream",
          "name": "stdout",
          "text": [
            "<Compressed Sparse Row sparse matrix of dtype 'float64'\n",
            "\twith 39 stored elements and shape (10, 11107)>\n",
            "  Coords\tValues\n",
            "  (0, 1271)\t0.7152540568931741\n",
            "  (0, 2215)\t0.6988645320073524\n",
            "  (1, 2581)\t0.24386327891209852\n",
            "  (1, 9485)\t0.35432423434503785\n",
            "  (1, 4816)\t0.4296133196445944\n",
            "  (1, 9311)\t0.4876547904630437\n",
            "  (1, 4319)\t0.49510290979295335\n",
            "  (1, 2760)\t0.38403560745195214\n",
            "  (2, 1171)\t0.617824520238868\n",
            "  (2, 4465)\t0.786316006572175\n",
            "  (3, 2581)\t0.5093582981495499\n",
            "  (3, 1431)\t0.8605545445270708\n",
            "  (4, 3040)\t0.30803591021701054\n",
            "  (4, 7888)\t0.2167801141946805\n",
            "  (4, 5664)\t0.2305496625333641\n",
            "  (4, 8759)\t0.2805972045019164\n",
            "  (4, 3696)\t0.2128872702884125\n",
            "  (4, 10499)\t0.25498691053987105\n",
            "  (4, 8357)\t0.2912264368637198\n",
            "  (4, 156)\t0.31683673082576513\n",
            "  (4, 5245)\t0.33181779242600706\n",
            "  (4, 6692)\t0.31683673082576513\n",
            "  (4, 8433)\t0.33181779242600706\n",
            "  (4, 4378)\t0.33181779242600706\n",
            "  (5, 7904)\t0.182545820216059\n",
            "  (5, 4672)\t0.23974953634578985\n",
            "  (5, 2398)\t0.2902688487341247\n",
            "  (5, 2460)\t0.3167618801144663\n",
            "  (5, 10049)\t0.26145866155592395\n",
            "  (5, 630)\t0.3082330289944018\n",
            "  (5, 7140)\t0.3432549114948079\n",
            "  (5, 27)\t0.3432549114948079\n",
            "  (5, 10833)\t0.3432549114948079\n",
            "  (5, 2715)\t0.3167618801144663\n",
            "  (5, 4674)\t0.32775748160687923\n",
            "  (6, 5726)\t1.0\n",
            "  (7, 8268)\t1.0\n",
            "  (8, 8455)\t1.0\n",
            "  (9, 6021)\t1.0\n"
          ]
        }
      ]
    },
    {
      "cell_type": "code",
      "source": [
        "\"\"\"\n",
        "from sklearn.svm import LinearSVC\n",
        "from sklearn.model_selection import GridSearchCV\n",
        "\n",
        "param_grid = {'C': [0.01, 0.1, 1, 10, 100]}\n",
        "model = LinearSVC(class_weight='balanced', max_iter=1000)\n",
        "\n",
        "grid = GridSearchCV(model, param_grid, cv=5, scoring='accuracy')\n",
        "grid.fit(X_train, y_train)\n",
        "\n",
        "print(\" Best C:\", grid.best_params_['C'])\n",
        "print(\" Best Accuracy:\", grid.best_score_)\n",
        "\n",
        "best_model = grid.best_estimator_\n",
        "y_pred = best_model.predict(X_test)\n",
        "\"\"\""
      ],
      "metadata": {
        "colab": {
          "base_uri": "https://localhost:8080/",
          "height": 70
        },
        "id": "ev-AJ1qwoIbf",
        "outputId": "75a01ec0-2653-4ab0-dffc-a6c9ed7c2814"
      },
      "execution_count": 6,
      "outputs": [
        {
          "output_type": "execute_result",
          "data": {
            "text/plain": [
              "'\\nfrom sklearn.svm import LinearSVC\\nfrom sklearn.model_selection import GridSearchCV\\n\\nparam_grid = {\\'C\\': [0.01, 0.1, 1, 10, 100]}\\nmodel = LinearSVC(class_weight=\\'balanced\\', max_iter=1000)\\n\\ngrid = GridSearchCV(model, param_grid, cv=5, scoring=\\'accuracy\\')\\ngrid.fit(X_train, y_train)\\n\\nprint(\" Best C:\", grid.best_params_[\\'C\\'])\\nprint(\" Best Accuracy:\", grid.best_score_)\\n\\nbest_model = grid.best_estimator_\\ny_pred = best_model.predict(X_test)\\n'"
            ],
            "application/vnd.google.colaboratory.intrinsic+json": {
              "type": "string"
            }
          },
          "metadata": {},
          "execution_count": 6
        }
      ]
    },
    {
      "cell_type": "code",
      "source": [
        "\"\"\"from sklearn.metrics import classification_report\n",
        "print(classification_report(y_test, y_pred))\"\"\""
      ],
      "metadata": {
        "id": "eL9y-xz6fTCN",
        "colab": {
          "base_uri": "https://localhost:8080/",
          "height": 35
        },
        "outputId": "783f2edf-7abd-4d90-f3af-d69ab2702d2b"
      },
      "execution_count": 7,
      "outputs": [
        {
          "output_type": "execute_result",
          "data": {
            "text/plain": [
              "'from sklearn.metrics import classification_report\\nprint(classification_report(y_test, y_pred))'"
            ],
            "application/vnd.google.colaboratory.intrinsic+json": {
              "type": "string"
            }
          },
          "metadata": {},
          "execution_count": 7
        }
      ]
    },
    {
      "cell_type": "code",
      "source": [
        "\"\"\"\n",
        "text = [\"جريمة \"]\n",
        "text_vect = vectorizer.transform(text)\n",
        "pred = best_model.predict(text_vect)\n",
        "print( text , pred[0])\n",
        "\"\"\""
      ],
      "metadata": {
        "colab": {
          "base_uri": "https://localhost:8080/"
        },
        "id": "b77j6Olaxb1t",
        "outputId": "978d9ab5-8628-4fe9-825c-87bf336d2f3e"
      },
      "execution_count": null,
      "outputs": [
        {
          "output_type": "stream",
          "name": "stdout",
          "text": [
            "['جريمة '] negative\n"
          ]
        }
      ]
    },
    {
      "cell_type": "code",
      "source": [
        "from sklearn.naive_bayes import MultinomialNB\n",
        "from sklearn.model_selection import GridSearchCV\n",
        "from sklearn.metrics import classification_report\n",
        "naive = MultinomialNB()\n",
        "param_grid = {'alpha': [0.1, 0.5, 1.0, 5.0, 10.0]}\n",
        "\n",
        "grid_search = GridSearchCV(naive, param_grid, cv=5, scoring='accuracy')\n",
        "grid_search.fit(X_train, y_train)\n",
        "\n",
        "print('best alpha ', grid_search.best_params_)\n",
        "\n",
        "\n",
        "best_model = grid_search.best_estimator_\n",
        "\n",
        "\n",
        "y_pred = best_model.predict(X_test)\n",
        "\n",
        "print(classification_report(y_test, y_pred))\n"
      ],
      "metadata": {
        "colab": {
          "base_uri": "https://localhost:8080/"
        },
        "id": "70kYhPIbz4FM",
        "outputId": "64eabf22-53b2-4c7e-d0c3-8ba1d1f02a56"
      },
      "execution_count": 10,
      "outputs": [
        {
          "output_type": "stream",
          "name": "stdout",
          "text": [
            "best alpha  {'alpha': 0.1}\n",
            "              precision    recall  f1-score   support\n",
            "\n",
            "    negative       0.65      0.68      0.66       448\n",
            "     neutral       0.54      0.49      0.51       293\n",
            "    positive       0.69      0.69      0.69       429\n",
            "\n",
            "    accuracy                           0.64      1170\n",
            "   macro avg       0.62      0.62      0.62      1170\n",
            "weighted avg       0.63      0.64      0.64      1170\n",
            "\n"
          ]
        }
      ]
    },
    {
      "cell_type": "code",
      "source": [
        "import joblib\n",
        "\n",
        "data = {\n",
        "    'model': best_model,\n",
        "    'vectorizer': vectorizer\n",
        "}\n",
        "\n",
        "joblib.dump(data, 'model_and_vectorizer.pkl')\n"
      ],
      "metadata": {
        "colab": {
          "base_uri": "https://localhost:8080/"
        },
        "id": "psXIngnFBWGw",
        "outputId": "6c0b54fe-701d-4dd8-8362-77aec9dc2e48"
      },
      "execution_count": 11,
      "outputs": [
        {
          "output_type": "execute_result",
          "data": {
            "text/plain": [
              "['model_and_vectorizer.pkl']"
            ]
          },
          "metadata": {},
          "execution_count": 11
        }
      ]
    }
  ]
}